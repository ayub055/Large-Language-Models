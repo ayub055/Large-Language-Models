{
 "cells": [
  {
   "cell_type": "code",
   "execution_count": 1,
   "metadata": {},
   "outputs": [
    {
     "name": "stdout",
     "output_type": "stream",
     "text": [
      "torch.Size([6, 3])\n"
     ]
    }
   ],
   "source": [
    "import torch\n",
    "inputs = torch.tensor(\n",
    "  [[0.43, 0.15, 0.89], # Your     (x^1)\n",
    "   [0.55, 0.87, 0.66], # journey  (x^2)\n",
    "   [0.57, 0.85, 0.64], # starts   (x^3)\n",
    "   [0.22, 0.58, 0.33], # with     (x^4)\n",
    "   [0.77, 0.25, 0.10], # one      (x^5)\n",
    "   [0.05, 0.80, 0.55]] # step     (x^6)\n",
    ")\n",
    "print(inputs.shape)"
   ]
  },
  {
   "cell_type": "markdown",
   "metadata": {},
   "source": [
    "### W_Q, W_V, W_K are trainable parameters to learn best weights for constructing context words"
   ]
  },
  {
   "cell_type": "code",
   "execution_count": 3,
   "metadata": {},
   "outputs": [],
   "source": [
    "d_in = inputs.shape[1]\n",
    "d_out = 2\n",
    "\n",
    "W_q = torch.nn.Parameter(torch.randn(d_in, d_out), requires_grad=False)\n",
    "W_k = torch.nn.Parameter(torch.randn(d_in, d_out), requires_grad=False)\n",
    "W_v = torch.nn.Parameter(torch.randn(d_in, d_out), requires_grad=False)"
   ]
  },
  {
   "cell_type": "code",
   "execution_count": 4,
   "metadata": {},
   "outputs": [
    {
     "name": "stdout",
     "output_type": "stream",
     "text": [
      "Input :  torch.Size([6, 3])\n",
      "Query :  torch.Size([3, 2])\n",
      "Key :  torch.Size([3, 2])\n",
      "Value :  torch.Size([3, 2])\n"
     ]
    }
   ],
   "source": [
    "print(\"Input : \", inputs.shape)\n",
    "print(\"Query : \", W_q.shape)\n",
    "print(\"Key : \", W_k.shape)\n",
    "print(\"Value : \", W_v.shape)\n"
   ]
  },
  {
   "cell_type": "code",
   "execution_count": 6,
   "metadata": {},
   "outputs": [
    {
     "name": "stdout",
     "output_type": "stream",
     "text": [
      "torch.Size([6, 2])\n",
      "torch.Size([6, 2])\n",
      "torch.Size([6, 2])\n"
     ]
    }
   ],
   "source": [
    "Q = inputs @  W_q\n",
    "K = inputs @  W_k\n",
    "V = inputs @  W_v\n",
    "\n",
    "print(Q.shape)\n",
    "print(K.shape)\n",
    "print(V.shape)"
   ]
  },
  {
   "cell_type": "code",
   "execution_count": 10,
   "metadata": {},
   "outputs": [
    {
     "name": "stdout",
     "output_type": "stream",
     "text": [
      "torch.Size([6, 6]) torch.Size([6, 6])\n"
     ]
    }
   ],
   "source": [
    "d_k = K.shape[1]\n",
    "score = Q @ K.T\n",
    "attention_weights = torch.softmax(score/d_k ** 0.5, dim=-1)\n",
    "print(score.shape, attention_weights.shape)"
   ]
  },
  {
   "cell_type": "code",
   "execution_count": 11,
   "metadata": {},
   "outputs": [],
   "source": [
    "context_vector = attention_weights @ V"
   ]
  },
  {
   "cell_type": "code",
   "execution_count": 18,
   "metadata": {},
   "outputs": [
    {
     "data": {
      "text/plain": [
       "tensor([[0., 1., 1., 1., 1., 1.],\n",
       "        [0., 0., 1., 1., 1., 1.],\n",
       "        [0., 0., 0., 1., 1., 1.],\n",
       "        [0., 0., 0., 0., 1., 1.],\n",
       "        [0., 0., 0., 0., 0., 1.],\n",
       "        [0., 0., 0., 0., 0., 0.]])"
      ]
     },
     "execution_count": 18,
     "metadata": {},
     "output_type": "execute_result"
    }
   ],
   "source": [
    "torch.triu(torch.ones(6, 6), diagonal=1)"
   ]
  },
  {
   "cell_type": "code",
   "execution_count": 43,
   "metadata": {},
   "outputs": [
    {
     "data": {
      "text/plain": [
       "tensor([[1.0000, 0.0000, 0.0000, 0.0000, 0.0000, 0.0000],\n",
       "        [0.3739, 0.6261, 0.0000, 0.0000, 0.0000, 0.0000],\n",
       "        [0.2279, 0.3787, 0.3934, 0.0000, 0.0000, 0.0000],\n",
       "        [0.2112, 0.2811, 0.2870, 0.2207, 0.0000, 0.0000],\n",
       "        [0.1642, 0.2050, 0.2084, 0.1688, 0.2537, 0.0000],\n",
       "        [0.1257, 0.1841, 0.1894, 0.1325, 0.2650, 0.1033]])"
      ]
     },
     "execution_count": 43,
     "metadata": {},
     "output_type": "execute_result"
    }
   ],
   "source": [
    "score = Q @ K.T\n",
    "mask = torch.tril(torch.ones(6, 6))\n",
    "score = score.masked_fill(mask == 0, -torch.inf)\n",
    "attention_weights = torch.softmax(score / K.shape[-1] ** 0.5, dim=-1)\n",
    "attention_weights"
   ]
  },
  {
   "cell_type": "code",
   "execution_count": 44,
   "metadata": {},
   "outputs": [
    {
     "name": "stdout",
     "output_type": "stream",
     "text": [
      "torch.Size([2, 6, 3])\n"
     ]
    }
   ],
   "source": [
    "batch = torch.stack((inputs, inputs), dim=0)\n",
    "print(batch.shape) # 2 inputs with 6 tokens each, and each token has embedding dimension 3"
   ]
  },
  {
   "cell_type": "code",
   "execution_count": 58,
   "metadata": {},
   "outputs": [
    {
     "name": "stdout",
     "output_type": "stream",
     "text": [
      "torch.Size([2, 6, 6])\n"
     ]
    }
   ],
   "source": [
    "W_q = torch.nn.Linear(d_in, d_out, bias=False)\n",
    "W_k = torch.nn.Linear(d_in, d_out, bias=False)\n",
    "W_v = torch.nn.Linear(d_in, d_out, bias=False)\n",
    "\n",
    "b, num_tokens, d_in = batch.shape\n",
    "\n",
    "keys = W_k(batch)\n",
    "queries = W_q(batch)\n",
    "values = W_v(batch)\n",
    "attn_scores = queries @ keys.transpose(1, 2)\n",
    "mask = torch.tril(torch.ones(num_tokens, num_tokens))\n",
    "attn_scores = attn_scores.masked_fill(mask == 0, -torch.inf)\n",
    "\n"
   ]
  },
  {
   "cell_type": "code",
   "execution_count": null,
   "metadata": {},
   "outputs": [],
   "source": []
  }
 ],
 "metadata": {
  "kernelspec": {
   "display_name": "LLM",
   "language": "python",
   "name": "python3"
  },
  "language_info": {
   "codemirror_mode": {
    "name": "ipython",
    "version": 3
   },
   "file_extension": ".py",
   "mimetype": "text/x-python",
   "name": "python",
   "nbconvert_exporter": "python",
   "pygments_lexer": "ipython3",
   "version": "3.10.14"
  }
 },
 "nbformat": 4,
 "nbformat_minor": 2
}
