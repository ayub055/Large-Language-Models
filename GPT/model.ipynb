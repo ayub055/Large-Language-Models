{
 "cells": [
  {
   "cell_type": "code",
   "execution_count": 7,
   "metadata": {},
   "outputs": [],
   "source": [
    "import torch\n",
    "class BatchNorm(torch.nn.Module):\n",
    "    def __init__(self, emb_size):\n",
    "        super().__init__()\n",
    "        self.eps = 1e-5\n",
    "        self.scale = torch.nn.Parameter(torch.ones(1, emb_size))\n",
    "        self.bias = torch.nn.Parameter(torch.zeros(1, emb_size))\n",
    "\n",
    "    def forward(self, x):\n",
    "        mean = x.mean(dim=0, keepdim=True)\n",
    "        var = x.var(dim=0, keepdim=True, unbiased=False)\n",
    "        norm_x = (x - mean) / torch.sqrt(var + self.eps)\n",
    "        return self.scale * norm_x + self.bias"
   ]
  },
  {
   "cell_type": "code",
   "execution_count": 9,
   "metadata": {},
   "outputs": [],
   "source": [
    "import torch\n",
    "class LayerNorm(torch.nn.Module):\n",
    "    def __init__(self, emb_size):\n",
    "        super().__init__()\n",
    "        self.eps = 1e-5\n",
    "        self.scale = torch.nn.Parameter(torch.ones(1, emb_size))\n",
    "        self.bias = torch.nn.Parameter(torch.zeros(1, emb_size))\n",
    "\n",
    "    def forward(self, x):\n",
    "        mean = x.mean(dim=-1, keepdim=True)\n",
    "        var = x.var(dim=-1, keepdim=True, unbiased=False)\n",
    "        norm_x = (x - mean) / torch.sqrt(var + self.eps)\n",
    "        return self.scale * norm_x + self.bias"
   ]
  },
  {
   "cell_type": "code",
   "execution_count": 11,
   "metadata": {},
   "outputs": [
    {
     "name": "stdout",
     "output_type": "stream",
     "text": [
      "After BN\n",
      "Mean:\n",
      " tensor([[ 0.0000e+00, -1.7881e-07,  0.0000e+00,  5.9605e-08,  0.0000e+00]],\n",
      "       grad_fn=<MeanBackward1>)\n",
      "Variance:\n",
      " tensor([[1.0000, 0.9997, 1.0000, 1.0000, 1.0000]], grad_fn=<VarBackward0>)\n"
     ]
    }
   ],
   "source": [
    "inp = torch.randn(2, 5)\n",
    "bn = BatchNorm(5)\n",
    "out = bn(inp)\n",
    "mean = out.mean(dim=0, keepdim=True)\n",
    "var = out.var(dim=0, unbiased=False, keepdim=True)\n",
    "\n",
    "print(\"After BN\")\n",
    "print(\"Mean:\\n\", mean)\n",
    "print(\"Variance:\\n\", var)"
   ]
  },
  {
   "cell_type": "code",
   "execution_count": 12,
   "metadata": {},
   "outputs": [
    {
     "name": "stdout",
     "output_type": "stream",
     "text": [
      "After BN\n",
      "Mean:\n",
      " tensor([[ 0.0000e+00],\n",
      "        [-3.2573e-08]], grad_fn=<MeanBackward1>)\n",
      "Variance:\n",
      " tensor([[1.0000],\n",
      "        [1.0000]], grad_fn=<VarBackward0>)\n"
     ]
    }
   ],
   "source": [
    "inp = torch.randn(2, 5)\n",
    "bn = LayerNorm(5)\n",
    "out = bn(inp)\n",
    "mean = out.mean(dim=-1, keepdim=True)\n",
    "var = out.var(dim=-1, unbiased=False, keepdim=True)\n",
    "\n",
    "print(\"After BN\")\n",
    "print(\"Mean:\\n\", mean)\n",
    "print(\"Variance:\\n\", var)"
   ]
  },
  {
   "cell_type": "code",
   "execution_count": null,
   "metadata": {},
   "outputs": [],
   "source": []
  }
 ],
 "metadata": {
  "kernelspec": {
   "display_name": "LLM",
   "language": "python",
   "name": "python3"
  },
  "language_info": {
   "codemirror_mode": {
    "name": "ipython",
    "version": 3
   },
   "file_extension": ".py",
   "mimetype": "text/x-python",
   "name": "python",
   "nbconvert_exporter": "python",
   "pygments_lexer": "ipython3",
   "version": "3.10.14"
  }
 },
 "nbformat": 4,
 "nbformat_minor": 2
}
